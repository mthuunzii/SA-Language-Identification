{
 "cells": [
  {
   "cell_type": "code",
   "execution_count": 1,
   "id": "6cffd1f0",
   "metadata": {},
   "outputs": [
    {
     "name": "stdout",
     "output_type": "stream",
     "text": [
      "Collecting nlppreprocess\n",
      "  Obtaining dependency information for nlppreprocess from https://files.pythonhosted.org/packages/66/8d/3a0584b924248c865a8e7ee04a93175551ebcaf156ee9b73346cd62446e6/nlppreprocess-1.0.2-py3-none-any.whl.metadata\n",
      "  Downloading nlppreprocess-1.0.2-py3-none-any.whl.metadata (1.8 kB)\n",
      "Downloading nlppreprocess-1.0.2-py3-none-any.whl (5.1 kB)\n",
      "Installing collected packages: nlppreprocess\n",
      "Successfully installed nlppreprocess-1.0.2\n"
     ]
    }
   ],
   "source": [
    "%timeit\n",
    "!pip install nlppreprocess"
   ]
  },
  {
   "cell_type": "code",
   "execution_count": null,
   "id": "1e67dc2b",
   "metadata": {},
   "outputs": [],
   "source": []
  }
 ],
 "metadata": {
  "kernelspec": {
   "display_name": "Python 3 (ipykernel)",
   "language": "python",
   "name": "python3"
  },
  "language_info": {
   "codemirror_mode": {
    "name": "ipython",
    "version": 3
   },
   "file_extension": ".py",
   "mimetype": "text/x-python",
   "name": "python",
   "nbconvert_exporter": "python",
   "pygments_lexer": "ipython3",
   "version": "3.11.4"
  }
 },
 "nbformat": 4,
 "nbformat_minor": 5
}
